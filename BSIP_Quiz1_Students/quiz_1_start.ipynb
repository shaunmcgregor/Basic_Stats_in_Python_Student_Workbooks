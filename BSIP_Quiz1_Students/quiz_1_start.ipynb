{
 "cells": [
  {
   "cell_type": "code",
   "execution_count": 2,
   "metadata": {},
   "outputs": [],
   "source": [
    "import thinkplot\n",
    "import thinkstats2\n",
    "import pandas as pd\n",
    "import numpy as np\n",
    "import seaborn as sns"
   ]
  },
  {
   "cell_type": "markdown",
   "metadata": {},
   "source": [
    "## Quiz 1\n",
    "\n",
    "Use this file as a starting point for your work. You are free to add/import any other libaries that you may want, though you shouldn't need much more, if anything. \n",
    "\n",
    "There are multiple approaches to solve each of the challenges. It is probably easiest to create a function that calculates a generic version of a solution, then takes in arguments for which data to use. There is an example of one of the functions I used to make a solution below. \n",
    "\n",
    "Please push you finished work into a repository on your github and paste the link in the final question. The responses on Moodle are what is graded, but your code will be glanced at to ensure you actually did the work and didn't do the calculations somewhere else. "
   ]
  },
  {
   "cell_type": "markdown",
   "metadata": {},
   "source": [
    "### Example Function"
   ]
  },
  {
   "cell_type": "code",
   "execution_count": 3,
   "metadata": {},
   "outputs": [
    {
     "name": "stdout",
     "output_type": "stream",
     "text": [
      "1\n",
      "25862.32\n",
      "25243.55\n",
      "25564.67\n"
     ]
    }
   ],
   "source": [
    "# Here is the framework of my function for the first set of challenges\n",
    "df = pd.read_csv(\"LabourTrainingEvaluationData.csv\")\n",
    "\n",
    "def rangeMag(df_in, columnName):\n",
    "    retval =  np.max(df[columnName]) - np.min(df[columnName])\n",
    "    if retval < 0:\n",
    "        retval = retval * -1\n",
    "    return retval\n",
    "\n",
    "# When calling the function to use the code, it would look like this...\n",
    "\n",
    "# Nodeg\n",
    "print(rangeMag(df, \"Nodeg\"))\n",
    "# Earnings_1974\n",
    "print(rangeMag(df, \"Earnings_1974\"))\n",
    "# Earnings_1975\n",
    "print(rangeMag(df, \"Earnings_1975\"))\n",
    "# Earnings_1978\n",
    "print(rangeMag(df, \"Earnings_1978\"))\n"
   ]
  },
  {
   "cell_type": "markdown",
   "metadata": {},
   "source": [
    "### Load Some Data"
   ]
  },
  {
   "cell_type": "code",
   "execution_count": 4,
   "metadata": {},
   "outputs": [
    {
     "data": {
      "text/html": [
       "<div>\n",
       "<style scoped>\n",
       "    .dataframe tbody tr th:only-of-type {\n",
       "        vertical-align: middle;\n",
       "    }\n",
       "\n",
       "    .dataframe tbody tr th {\n",
       "        vertical-align: top;\n",
       "    }\n",
       "\n",
       "    .dataframe thead th {\n",
       "        text-align: right;\n",
       "    }\n",
       "</style>\n",
       "<table border=\"1\" class=\"dataframe\">\n",
       "  <thead>\n",
       "    <tr style=\"text-align: right;\">\n",
       "      <th></th>\n",
       "      <th>Age</th>\n",
       "      <th>Eduacation</th>\n",
       "      <th>Race</th>\n",
       "      <th>Hisp</th>\n",
       "      <th>MaritalStatus</th>\n",
       "      <th>Nodeg</th>\n",
       "      <th>Earnings_1974</th>\n",
       "      <th>Earnings_1975</th>\n",
       "      <th>Earnings_1978</th>\n",
       "    </tr>\n",
       "  </thead>\n",
       "  <tbody>\n",
       "    <tr>\n",
       "      <th>0</th>\n",
       "      <td>45</td>\n",
       "      <td>LessThanHighSchool</td>\n",
       "      <td>NotBlack</td>\n",
       "      <td>NotHispanic</td>\n",
       "      <td>Married</td>\n",
       "      <td>1</td>\n",
       "      <td>21516.670</td>\n",
       "      <td>25243.550</td>\n",
       "      <td>25564.670</td>\n",
       "    </tr>\n",
       "    <tr>\n",
       "      <th>1</th>\n",
       "      <td>21</td>\n",
       "      <td>Intermediate</td>\n",
       "      <td>NotBlack</td>\n",
       "      <td>NotHispanic</td>\n",
       "      <td>NotMarried</td>\n",
       "      <td>0</td>\n",
       "      <td>3175.971</td>\n",
       "      <td>5852.565</td>\n",
       "      <td>13496.080</td>\n",
       "    </tr>\n",
       "    <tr>\n",
       "      <th>2</th>\n",
       "      <td>38</td>\n",
       "      <td>HighSchool</td>\n",
       "      <td>NotBlack</td>\n",
       "      <td>NotHispanic</td>\n",
       "      <td>Married</td>\n",
       "      <td>0</td>\n",
       "      <td>23039.020</td>\n",
       "      <td>25130.760</td>\n",
       "      <td>25564.670</td>\n",
       "    </tr>\n",
       "    <tr>\n",
       "      <th>3</th>\n",
       "      <td>48</td>\n",
       "      <td>LessThanHighSchool</td>\n",
       "      <td>NotBlack</td>\n",
       "      <td>NotHispanic</td>\n",
       "      <td>Married</td>\n",
       "      <td>1</td>\n",
       "      <td>24994.370</td>\n",
       "      <td>25243.550</td>\n",
       "      <td>25564.670</td>\n",
       "    </tr>\n",
       "    <tr>\n",
       "      <th>4</th>\n",
       "      <td>18</td>\n",
       "      <td>LessThanHighSchool</td>\n",
       "      <td>NotBlack</td>\n",
       "      <td>NotHispanic</td>\n",
       "      <td>Married</td>\n",
       "      <td>1</td>\n",
       "      <td>1669.295</td>\n",
       "      <td>10727.610</td>\n",
       "      <td>9860.869</td>\n",
       "    </tr>\n",
       "  </tbody>\n",
       "</table>\n",
       "</div>"
      ],
      "text/plain": [
       "   Age          Eduacation      Race         Hisp MaritalStatus  Nodeg  \\\n",
       "0   45  LessThanHighSchool  NotBlack  NotHispanic       Married      1   \n",
       "1   21        Intermediate  NotBlack  NotHispanic    NotMarried      0   \n",
       "2   38          HighSchool  NotBlack  NotHispanic       Married      0   \n",
       "3   48  LessThanHighSchool  NotBlack  NotHispanic       Married      1   \n",
       "4   18  LessThanHighSchool  NotBlack  NotHispanic       Married      1   \n",
       "\n",
       "   Earnings_1974  Earnings_1975  Earnings_1978  \n",
       "0      21516.670      25243.550      25564.670  \n",
       "1       3175.971       5852.565      13496.080  \n",
       "2      23039.020      25130.760      25564.670  \n",
       "3      24994.370      25243.550      25564.670  \n",
       "4       1669.295      10727.610       9860.869  "
      ]
     },
     "execution_count": 4,
     "metadata": {},
     "output_type": "execute_result"
    }
   ],
   "source": [
    "df = pd.read_csv(\"LabourTrainingEvaluationData.csv\")\n",
    "df.head()"
   ]
  },
  {
   "cell_type": "markdown",
   "metadata": {},
   "source": [
    "### Challenge 1 - Magnitude of Range"
   ]
  },
  {
   "cell_type": "code",
   "execution_count": null,
   "metadata": {},
   "outputs": [],
   "source": []
  },
  {
   "cell_type": "markdown",
   "metadata": {},
   "source": [
    "### Challenge 2 - Percent of Values Above a Value"
   ]
  },
  {
   "cell_type": "code",
   "execution_count": 5,
   "metadata": {},
   "outputs": [
    {
     "name": "stdout",
     "output_type": "stream",
     "text": [
      "0.35767883941970985\n",
      "0.272823911955978\n",
      "0.5521510755377689\n"
     ]
    }
   ],
   "source": [
    "def above(df_in, columnName, value):\n",
    "    count = 0\n",
    "    for i in df_in[columnName]:\n",
    "        if i > value:\n",
    "            count += 1\n",
    "    return (count/ len(df_in[columnName]))\n",
    "\n",
    "print(above(df, \"Earnings_1974\", 20000))\n",
    "print(above(df, \"Earnings_1978\", 25000))\n",
    "print(above(df, \"Earnings_1978\", np.median(df[\"Earnings_1975\"])))"
   ]
  },
  {
   "cell_type": "markdown",
   "metadata": {},
   "source": [
    "### Challenge 3 - Mean of Differences"
   ]
  },
  {
   "cell_type": "code",
   "execution_count": 10,
   "metadata": {},
   "outputs": [
    {
     "name": "stdout",
     "output_type": "stream",
     "text": [
      "0.0\n",
      "-829.8593687151432\n"
     ]
    }
   ],
   "source": [
    "def MeanOfDifference(df_in, column1, column2):\n",
    "    df_in[\"diff\"] = df_in[column1] - df_in[column2]\n",
    "    # df_in[\"diff\"] = df_in[\"diff\"].abs()\n",
    "    print(df_in[\"diff\"].mean())\n",
    "    # print(df_in[[\"Earnings_1975\", \"Earnings_1975\", \"diff\"]].head(20))\n",
    "\n",
    "MeanOfDifference(df, \"Earnings_1975\", \"Earnings_1975\")\n",
    "MeanOfDifference(df, \"Earnings_1974\", \"Earnings_1978\")\n",
    "    \n",
    "\n"
   ]
  },
  {
   "cell_type": "markdown",
   "metadata": {},
   "source": [
    "### Challenge 4 - Count of Values in Range"
   ]
  },
  {
   "cell_type": "code",
   "execution_count": 63,
   "metadata": {},
   "outputs": [
    {
     "name": "stdout",
     "output_type": "stream",
     "text": [
      "2054\n",
      "13468\n",
      "297\n"
     ]
    }
   ],
   "source": [
    "from statistics import median\n",
    "\n",
    "\n",
    "def numberInRange(df_in, column, begin, end):\n",
    "    count = 0\n",
    "    for i in df_in[column]:\n",
    "        if (i >= begin) & (i <= end):\n",
    "            count+= 1\n",
    "    return count\n",
    "\n",
    "print(numberInRange(df, \"Earnings_1974\", 10000, 15000))\n",
    "print(numberInRange(df, \"Age\", 18, 49))\n",
    "mean78 = df[\"Earnings_1978\"].mean()\n",
    "median78 = df[\"Earnings_1978\"].median()\n",
    "\n",
    "print(numberInRange(df[(df[\"Age\"] >= 20) & (df[\"Age\"] <= 29)] ,  \"Earnings_1978\", mean78, median78))"
   ]
  },
  {
   "cell_type": "code",
   "execution_count": 30,
   "metadata": {},
   "outputs": [
    {
     "name": "stdout",
     "output_type": "stream",
     "text": [
      "5478\n",
      "5478\n"
     ]
    }
   ],
   "source": [
    "print(len())\n",
    "print(numberInRange(df,\"Age\",20,29))"
   ]
  },
  {
   "cell_type": "markdown",
   "metadata": {},
   "source": [
    "### Challenge 5 - Basic Stats Calculations"
   ]
  },
  {
   "cell_type": "code",
   "execution_count": 37,
   "metadata": {},
   "outputs": [
    {
     "name": "stdout",
     "output_type": "stream",
     "text": [
      "74 count    15992.000000\n",
      "mean     14016.800304\n",
      "std       9569.795893\n",
      "min          0.000000\n",
      "25%       4403.452250\n",
      "50%      15123.580000\n",
      "75%      23584.180000\n",
      "max      25862.320000\n",
      "Name: Earnings_1974, dtype: float64\n",
      "75 count    15992.000000\n",
      "mean     13650.803376\n",
      "std       9270.403225\n",
      "min          0.000000\n",
      "25%       4398.823000\n",
      "50%      14557.110000\n",
      "75%      22923.737500\n",
      "max      25243.550000\n",
      "Name: Earnings_1975, dtype: float64\n",
      "78 count    15992.000000\n",
      "mean     14846.659673\n",
      "std       9647.391524\n",
      "min          0.000000\n",
      "25%       5669.298000\n",
      "50%      16421.975000\n",
      "75%      25564.670000\n",
      "max      25564.670000\n",
      "Name: Earnings_1978, dtype: float64\n",
      "74 91575266.76554328\n",
      "75 85935001.9910381\n",
      "78 93066343.30405259\n"
     ]
    }
   ],
   "source": [
    "print(\"74\",df[\"Earnings_1974\"].describe())\n",
    "print(\"75\",df[\"Earnings_1975\"].describe())\n",
    "print(\"78\",df[\"Earnings_1978\"].describe())\n",
    "print(\"74\",np.var(df[\"Earnings_1974\"]))\n",
    "print(\"75\",np.var(df[\"Earnings_1975\"]))\n",
    "print(\"78\",np.var(df[\"Earnings_1978\"]))\n",
    "\n",
    "\n"
   ]
  },
  {
   "cell_type": "code",
   "execution_count": 40,
   "metadata": {},
   "outputs": [
    {
     "name": "stdout",
     "output_type": "stream",
     "text": [
      "74 -1106.779695808831\n",
      "75 -906.3066239268392\n",
      "78 -1575.3153270939874\n"
     ]
    }
   ],
   "source": [
    "print(\"74\",np.mean(df[\"Earnings_1974\"]) - np.median(df[\"Earnings_1974\"]))\n",
    "print(\"75\",np.mean(df[\"Earnings_1975\"]) - np.median(df[\"Earnings_1975\"]))\n",
    "print(\"78\",np.mean(df[\"Earnings_1978\"]) - np.median(df[\"Earnings_1978\"]))"
   ]
  },
  {
   "cell_type": "markdown",
   "metadata": {},
   "source": [
    "### Challenge 6 - Cohort Calculations\n",
    "\n",
    "Here is some sample code that may be helpful:\n",
    "\n",
    "```python\n",
    "#Modification of cohort code to send back a tuple of results. \n",
    "#You could do this more manually as well.\n",
    "def cohort(df_in, cohort1, cohort2, cohort3, earningsColumn):\n",
    "    df_in[\"Cohort\"] = (df_in[cohort1]+df_in[cohort2]+df_in[cohort3])\n",
    "    cohortList = df_in[\"Cohort\"].unique()\n",
    "    i = 0\n",
    "    resList = []\n",
    "    while i < cohortList.size:\n",
    "        tmp = df_in[df_in.Cohort == cohortList[i]]\n",
    "        histTmp = thinkstats2.Hist(round(tmp[earningsColumn], -3))\n",
    "        resList.append((histTmp, cohortList[i], tmp[earningsColumn].median()))\n",
    "        i = i + 1\n",
    "    return resList\n",
    "```"
   ]
  },
  {
   "cell_type": "code",
   "execution_count": 57,
   "metadata": {},
   "outputs": [
    {
     "name": "stdout",
     "output_type": "stream",
     "text": [
      "Race      Hisp         MaritalStatus\n",
      "black     NotHispanic  NotMarried        7862.9830\n",
      "NotBlack  hispanic     NotMarried        9350.3145\n",
      "          NotHispanic  NotMarried       10431.2700\n",
      "black     NotHispanic  Married          15174.7700\n",
      "NotBlack  hispanic     Married          15636.5600\n",
      "          NotHispanic  Married          20462.0800\n",
      "Name: Earnings_1978, dtype: float64\n",
      "Eduacation          Race      Hisp       \n",
      "PostGraduate        NotBlack  hispanic        8398.397\n",
      "LessThanHighSchool  black     NotHispanic     9966.790\n",
      "graduate            black     NotHispanic    10609.430\n",
      "Intermediate        black     NotHispanic    11038.510\n",
      "LessThanHighSchool  NotBlack  hispanic       11316.730\n",
      "                              NotHispanic    11675.275\n",
      "HighSchool          black     NotHispanic    12074.960\n",
      "Intermediate        NotBlack  hispanic       14198.810\n",
      "HighSchool          NotBlack  hispanic       14908.065\n",
      "Intermediate        NotBlack  NotHispanic    15065.780\n",
      "PostGraduate        black     NotHispanic    17036.805\n",
      "HighSchool          NotBlack  NotHispanic    17431.600\n",
      "graduate            NotBlack  hispanic       17989.010\n",
      "PostGraduate        NotBlack  NotHispanic    18109.500\n",
      "graduate            NotBlack  NotHispanic    18781.530\n",
      "Name: Earnings_1974, dtype: float64\n"
     ]
    }
   ],
   "source": [
    "# def cohort(df_in, cohort1, cohort2, cohort3, earningsColumn):\n",
    "#     df_in[\"Cohort\"] = (df_in[cohort1]+df_in[cohort2]+df_in[cohort3])\n",
    "#     cohortList = df_in[\"Cohort\"].unique()\n",
    "#     i = 0\n",
    "#     resList = []\n",
    "#     while i < cohortList.size:\n",
    "#         tmp = df_in[df_in.Cohort == cohortList[i]]\n",
    "#         histTmp = thinkstats2.Hist(round(tmp[earningsColumn], -3))\n",
    "#         resList.append((histTmp, cohortList[i], tmp[earningsColumn].median()))\n",
    "#         i = i + 1\n",
    "#     return resList\n",
    "\n",
    "# cohort(df,\"Race\",\"Hisp\", \"MaritalStatus\", \"Earnings_1978\")\n",
    "\n",
    "print(df.groupby([\"Race\", \"Hisp\", \"MaritalStatus\"])[\"Earnings_1978\"].median().sort_values())\n",
    "print(df.groupby([\"Eduacation\", \"Race\", \"Hisp\"])[\"Earnings_1974\"].median().sort_values())"
   ]
  }
 ],
 "metadata": {
  "kernelspec": {
   "display_name": "Python 3.9.12 ('base')",
   "language": "python",
   "name": "python3"
  },
  "language_info": {
   "codemirror_mode": {
    "name": "ipython",
    "version": 3
   },
   "file_extension": ".py",
   "mimetype": "text/x-python",
   "name": "python",
   "nbconvert_exporter": "python",
   "pygments_lexer": "ipython3",
   "version": "3.9.12"
  },
  "orig_nbformat": 4,
  "vscode": {
   "interpreter": {
    "hash": "a8db638d3b940bd10adfd3e31b9d30944957c89679bddca81ff9d9cb86f7e1de"
   }
  }
 },
 "nbformat": 4,
 "nbformat_minor": 2
}
